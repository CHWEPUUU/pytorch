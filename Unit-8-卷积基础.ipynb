{
 "cells": [
  {
   "cell_type": "code",
   "execution_count": 2,
   "metadata": {},
   "outputs": [],
   "source": [
    "import torchvision\n",
    "import torch\n",
    "import numpy as np\n",
    "import matplotlib.pyplot as plt\n",
    "import torch.nn.functional as F # 内置的激活函数\n",
    "\n",
    "from torchvision.transforms import ToTensor\n",
    "from torch.utils.data import DataLoader\n",
    "from torch import nn"
   ]
  },
  {
   "cell_type": "code",
   "execution_count": 3,
   "metadata": {},
   "outputs": [
    {
     "data": {
      "image/png": "[encoded data removed]",
      "text/plain": [
       "<Figure size 640x480 with 10 Axes>"
      ]
     },
     "metadata": {},
     "output_type": "display_data"
    }
   ],
   "source": [
    "# 下载MNIST数据集\n",
    "# ToTensor() 规范格式 (channel, height, width)\n",
    "train_ds = torchvision.datasets.MNIST('./第6章/data',\n",
    "                                      train=True,\n",
    "                                      transform=ToTensor(),\n",
    "                                      download=True)\n",
    "\n",
    "test_ds = torchvision.datasets.MNIST('./第6章/data',\n",
    "                                      train=False,\n",
    "                                      transform=ToTensor(),\n",
    "                                      download=True)\n",
    "\n",
    "# 批次管理训练\n",
    "train_dl = DataLoader(train_ds, batch_size=64,shuffle=True)\n",
    "test_dl = DataLoader(test_ds, batch_size=64)\n",
    "\n",
    "'''\n",
    "iter(train_dl) 将train_dl转换为可迭代对象\n",
    "next(iter(train_dl)) 迭代一次\n",
    "'''\n",
    "imgs, labels = next(iter(train_dl))\n",
    "\n",
    "'''\n",
    "enumerate(sequence, start=0)\n",
    "sequence 一个序列、迭代器或其他支持迭代对象\n",
    "start 下标索引开始位置,默认为0\n",
    "'''\n",
    "for i, img in enumerate(imgs[:10], start=0): # 前10张图\n",
    "    img = np.squeeze(img) # 去除维度为1的\n",
    "    plt.subplot(1, 10, i+1) # 1行10列\n",
    "    plt.imshow(img) # 画图\n",
    "    plt.axis('off') # 关闭坐标系"
   ]
  },
  {
   "cell_type": "code",
   "execution_count": 20,
   "metadata": {},
   "outputs": [],
   "source": [
    "class Model(nn.Module):\n",
    "    def __init__(self):\n",
    "        super(Model,self).__init__()\n",
    "        # 输入通道数，输出通道数，卷积核数\n",
    "        self.conv1 = nn.Conv2d(1, 6, 5) # 卷积层 提取边缘特征\n",
    "        self.pool = nn.MaxPool2d(2) # 池化层 缩小图像\n",
    "        self.conv2 = nn.Conv2d(6, 16, 5) # 卷积层\n",
    "              \n",
    "        # 输入为前面处理后的值 \n",
    "        self.linear1 = nn.Linear(16*4*4, 128) # 全连接层\n",
    "        self.linear2 = nn.Linear(128, 10) # 全连接层\n",
    "        \n",
    "    def forward(self, input):\n",
    "        x = self.pool(F.relu(self.conv1(input)))\n",
    "        x = self.pool(F.relu(self.conv2(x)))\n",
    "        \n",
    "        # 查看暂停后的像素，给全连接层的输入\n",
    "        # print(x.size()) \n",
    "        \n",
    "        # 根据像素自适应  \n",
    "        x =  x.view(-1, 16*4*4) # x = x.view(x.size(0), -1) 根据批次自适应\n",
    "        x = F.relu(self.linear1(x))\n",
    "        logits = self.linear2(x)       \n",
    "        return logits\n",
    "\n",
    "model = Model().to('cuda')   # 初始化模型，放到GPU上\n",
    "\n",
    "# 交叉熵损失函数(合并了Softmax激活函数)\n",
    "loss_fn = torch.nn.CrossEntropyLoss()\n",
    "opt = torch.optim.Adam(model.parameters(), lr=0.001) # 随机梯度下降优化器\n",
    "\n",
    "# model(imgs.to('cuda'))"
   ]
  },
  {
   "cell_type": "code",
   "execution_count": 16,
   "metadata": {},
   "outputs": [],
   "source": [
    "# 训练函数\n",
    "def train(dl, model, loss_fn, optimizer):\n",
    "    size = len(dl.dataset) # 总的个数    \n",
    "    num_batches = len(dl) # 总批次数 = 总的个数//每批数\n",
    "        \n",
    "    train_loss, correct = 0, 0\n",
    "        \n",
    "    for x, y in dl:\n",
    "        x, y = x.to('cuda'), y.to('cuda')\n",
    "        pred = model(x)\n",
    "        loss = loss_fn(pred, y)\n",
    "        \n",
    "        optimizer.zero_grad()\n",
    "        loss.backward()\n",
    "        optimizer.step()\n",
    "        \n",
    "        with torch.no_grad():\n",
    "            # pred 第一维是每批数 \n",
    "            correct += (pred.argmax(1) == y).float().sum().item()\n",
    "            train_loss += loss.item()\n",
    "    correct /= size\n",
    "    train_loss /= num_batches\n",
    "    \n",
    "    return correct, train_loss\n",
    "\n",
    "# 测试函数\n",
    "def test(test_dl, model, loss_fn):\n",
    "    size = len(test_dl.dataset)    \n",
    "    num_batches = len(test_dl)\n",
    "    \n",
    "    test_loss, correct = 0, 0\n",
    "    \n",
    "    with torch.no_grad():\n",
    "        for x, y in test_dl:\n",
    "            x, y = x.to('cuda'), y.to('cuda')\n",
    "            pred = model(x)         \n",
    "            loss = loss_fn(pred, y)\n",
    "            \n",
    "            test_loss += loss.item()\n",
    "            correct += (pred.argmax(1) == y).float().sum().item()\n",
    "        correct /= size\n",
    "        test_loss /= num_batches\n",
    "        return correct, test_loss"
   ]
  },
  {
   "cell_type": "code",
   "execution_count": 15,
   "metadata": {},
   "outputs": [],
   "source": [
    "def fit(epochs,train_dl,test_dl,model, loss_fn, opt):\n",
    "    # 列表记录每轮的数据\n",
    "    train_loss = []\n",
    "    train_acc = []\n",
    "    test_loss = []\n",
    "    test_acc = []\n",
    "\n",
    "    for epoch in range(epochs):\n",
    "        epoch_train_acc, epoch_train_loss = train(train_dl, model, loss_fn, opt)\n",
    "        epoch_test_acc, epoch_test_loss = test(test_dl, model, loss_fn)\n",
    "        \n",
    "        # 追加到列表中\n",
    "        train_acc.append(epoch_train_acc)\n",
    "        train_loss.append(epoch_train_loss)\n",
    "        test_acc.append(epoch_test_acc)\n",
    "        test_loss.append(epoch_test_loss)\n",
    "        \n",
    "        # 打印模板\n",
    "        template = (\"epoch:{:2d}, train_Loss:{:.5f}, train_acc:{:.1f},test_Loss:{:.5f}, test_acc:{:.1f}\")\n",
    "        \n",
    "        print(template.format(epoch, epoch_train_loss, epoch_train_acc*100, epoch_test_loss, epoch_test_acc*100))\n",
    "    print('Done')\n",
    "    return train_loss,train_acc,test_loss,test_acc"
   ]
  },
  {
   "cell_type": "code",
   "execution_count": null,
   "metadata": {},
   "outputs": [],
   "source": [
    "epochs = 10\n",
    "(train_loss,\n",
    " train_acc,\n",
    " test_loss,\n",
    " test_acc) = fit(epochs=epochs, train_dl=train_dl, test_dl=test_dl, model=model, loss_fn=loss_fn, opt=opt)\n",
    "\n",
    "plt.plot(range(epochs), train_loss, label='train_loss')\n",
    "plt.plot(range(epochs), test_loss, label='test_loss')\n",
    "plt.legend()\n",
    "\n",
    "plt.plot(range(epochs), train_acc, label='train_acc')\n",
    "plt.plot(range(epochs), test_acc, label='test_acc')\n",
    "plt.legend() "
   ]
  }
 ],
 "metadata": {
  "kernelspec": {
   "display_name": "Python 3.9.17 ('base')",
   "language": "python",
   "name": "python3"
  },
  "language_info": {
   "codemirror_mode": {
    "name": "ipython",
    "version": 3
   },
   "file_extension": ".py",
   "mimetype": "text/x-python",
   "name": "python",
   "nbconvert_exporter": "python",
   "pygments_lexer": "ipython3",
   "version": "3.9.17"
  },
  "orig_nbformat": 4,
  "vscode": {
   "interpreter": {
    "hash": "af8259ad5c1c9c7a69bd6ea085234cf8fd3a6a37a71ca551828b314c4d89b0ad"
   }
  }
 },
 "nbformat": 4,
 "nbformat_minor": 2
}
