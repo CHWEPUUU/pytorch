{
 "cells": [
  {
   "cell_type": "code",
   "execution_count": 1,
   "metadata": {},
   "outputs": [],
   "source": [
    "import torch\n",
    "import pandas as pd\n",
    "import numpy as np\n",
    "import matplotlib.pyplot as plt"
   ]
  },
  {
   "cell_type": "code",
   "execution_count": 2,
   "metadata": {},
   "outputs": [
    {
     "name": "stdout",
     "output_type": "stream",
     "text": [
      "1.11.0+cu115\n"
     ]
    }
   ],
   "source": [
    "print(torch.__version__) "
   ]
  },
  {
   "cell_type": "code",
   "execution_count": 6,
   "metadata": {},
   "outputs": [
    {
     "data": {
      "text/plain": [
       "[<matplotlib.lines.Line2D at 0x1e2f32b7dc0>]"
      ]
     },
     "execution_count": 6,
     "metadata": {},
     "output_type": "execute_result"
    },
    {
     "data": {
      "image/png": "[encoded data removed]",
      "text/plain": [
       "<Figure size 640x480 with 1 Axes>"
      ]
     },
     "metadata": {},
     "output_type": "display_data"
    }
   ],
   "source": [
    "# data = pd.read_csv('./data.csv')  # 获取数据\n",
    "# data.head() # 查看数据\n",
    "# data.info() # 数据详情 \n",
    "x = [1,2,3,4,5]\n",
    "y = [1,4,9,16,25] \n",
    "\n",
    "plt.scatter(x,y) # 作图\n",
    "\n",
    "'''\n",
    "从numpy中创建torch张量 torch.from_numpy()\n",
    "改变数组或张量的形状 reshape(-1,1) -1自适应,维度长度为1\n",
    "改变数组或张量的类型 type()\n",
    "数据预处理\n",
    "'''\n",
    "# X = torch.from_numpy(x.values.reshape(-1,1)).type(torch.FloatTesor)\n",
    "# Y = torch.from_numpy(y.values.reshape(-1,1)).type(torch.FloatTesor)\n",
    "\n",
    "X = torch.from_numpy(np.array(x).reshape(-1,1)).type(torch.FloatTensor)\n",
    "Y = torch.from_numpy(np.array(y).reshape(-1,1)).type(torch.FloatTensor)\n",
    "\n",
    "# 生成模型\n",
    "from torch import nn # 导入PyTorch的神经网络模块\n",
    "# 继承nn.Module(是PyTorch中所有神经网络模型的基类)\n",
    "# class testModel(nn.Module): \n",
    "#     # 初始化方法，初始化模型的属性和参数\n",
    "#     def __init__(self,in_features, out_features): # self表示的是testModel类的实例对象\n",
    "#         # 调用父类nn.Module的初始化方法(必须同时传入子类和实例对象作为参数)\n",
    "#         super(testModel,self).__init__() # testModel是一个类变量\n",
    "#         # 赋值一个线性层对象 y = wx + b，其中w是权重，b是偏差\n",
    "#         self.linear = nn.Linear(in_features, out_features) # 输入长度，输出长度\n",
    "#     # 定义模型的前向传播方法(给模型输入数据时会被自动调用，用来计算模型的输出)\n",
    "#     def forward(self,inputs): # 定义实例对象的行为\n",
    "#         # 使用线性层作为函数对输入进行变换(表示模型对输入的预测值)\n",
    "#         logits = self.linear(inputs)\n",
    "#         return logits\n",
    "    \n",
    "in_features = 1 ; out_features = 1\n",
    "# model = testModel(in_features,out_features) # 实例化\n",
    "\n",
    "# 生成模型\n",
    "model = nn.Linear(in_features,out_features)\n",
    "\n",
    "# 训练模型\n",
    "loss_fn = nn.MSELoss() # 损失函数(均方误差)\n",
    "opt = torch.optim.SGD(model.parameters(),lr=0.0001) # 随机梯度下降优化器\n",
    "\n",
    "for epoch in range(5000): # 优化五千轮\n",
    "    for x,y in zip(X,Y): # zip() 对应赋值\n",
    "        '''\n",
    "            x = torch.randn(1,requires_grad = True)\n",
    "            y = torch.zeros(1,requires_grad = True)\n",
    "            lr = 0.0001\n",
    "            y_pred = w@x + b\n",
    "            loss = (y-y_pred)**2.mean()\n",
    "        '''\n",
    "        y_pred = model(x) # 预测值 model.linear(x)\n",
    "        loss = loss_fn(y_pred,y) # 损失\n",
    "\n",
    "        '''\n",
    "            if not w.grad is None\n",
    "                w.grade.data.zero_()\n",
    "            if not b.grad is None\n",
    "                b.grade.data.zero_()\n",
    "            loss.backward()\n",
    "            with torch.no_grad():\n",
    "                w.data -= lr * w.grad.data\n",
    "                b.data -= lr * b.grad.data\n",
    "        '''\n",
    "        # 将优化器中存储的梯度清零\n",
    "        opt.zero_grad()\n",
    "        # 使用反向传播算法计算损失函数关于模型参数的梯度\n",
    "        loss.backward() # 存储在参数的grad属性中\n",
    "        # 使用优化器根据梯度更新模型参数 \n",
    "        opt.step()\n",
    " \n",
    "# 画出模型预测\n",
    "plt.plot(X,model(X).detach().numpy(),\"b\")   "
   ]
  }
 ],
 "metadata": {
  "kernelspec": {
   "display_name": "Python 3.9.17 ('base')",
   "language": "python",
   "name": "python3"
  },
  "language_info": {
   "codemirror_mode": {
    "name": "ipython",
    "version": 3
   },
   "file_extension": ".py",
   "mimetype": "text/x-python",
   "name": "python",
   "nbconvert_exporter": "python",
   "pygments_lexer": "ipython3",
   "version": "3.9.17"
  },
  "orig_nbformat": 4,
  "vscode": {
   "interpreter": {
    "hash": "af8259ad5c1c9c7a69bd6ea085234cf8fd3a6a37a71ca551828b314c4d89b0ad"
   }
  }
 },
 "nbformat": 4,
 "nbformat_minor": 2
}
