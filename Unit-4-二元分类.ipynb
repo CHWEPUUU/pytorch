{
 "cells": [
  {
   "cell_type": "code",
   "execution_count": 1,
   "metadata": {},
   "outputs": [],
   "source": [
    "import torch\n",
    "import pandas as pd\n",
    "import numpy as np\n",
    "import matplotlib.pyplot as plt\n",
    "import torch.nn as nn "
   ]
  },
  {
   "cell_type": "code",
   "execution_count": 9,
   "metadata": {},
   "outputs": [
    {
     "data": {
      "text/plain": [
       "0.64778"
      ]
     },
     "execution_count": 9,
     "metadata": {},
     "output_type": "execute_result"
    }
   ],
   "source": [
    "data = pd.read_csv('./第4章/credit-a.csv',header = None) # 读取数据 没有表头\n",
    "\n",
    "X = data.iloc[:, :-1] # 读取除最后一列\n",
    "Y = data.iloc[:, -1].replace(-1,0) # 读取最后一列，处理为Sigmoid函数0-1\n",
    "\n",
    "# 数据预处理\n",
    "X = torch.from_numpy(X.values).type(torch.FloatTensor)\n",
    "Y = torch.from_numpy(Y.values.reshape(-1,1)).type(torch.FloatTensor)\n",
    "\n",
    "# 生成模型\n",
    "model = nn.Sequential(\n",
    "    nn.Linear(15,1),# 线性\n",
    "    nn.Sigmoid() # 激活函数\n",
    ")\n",
    "\n",
    "loss_fn = nn.BCELoss() # 损失函数(二元交叉熵)\n",
    "opt = torch.optim.Adam(model.parameters(),lr = 0.0001) # 自适应学习率优化器\n",
    "\n",
    "\n",
    "batch_size = 16 # 每批16个\n",
    "num_of_batch = X.shape[0] // batch_size # 总批数\n",
    "epoches = 1000 # 分批训练1000轮\n",
    "\n",
    "for epoch in range(epoches):\n",
    "    for batch in range(batch_size):\n",
    "        start = batch * batch_size # 0*16--0 ...\n",
    "        end = start + batch_size # 0+16--16 ...\n",
    "        \n",
    "        x = X[start:end]\n",
    "        y = Y[start:end]\n",
    "        y_pred = model(x)\n",
    "        loss = loss_fn(y_pred,y)\n",
    "        \n",
    "        # 三大步\n",
    "        opt.zero_grad()\n",
    "        loss.backward()\n",
    "        opt.step()\n",
    "        \n",
    "# 检验模型(0-1)正确率\n",
    "# ((model(X).data.numpy() > 0.5).astype('int') == Y.numpy()).mean()\n",
    "round(((model(X) > 0.5) == Y).float().mean().item(),5)"
   ]
  }
 ],
 "metadata": {
  "kernelspec": {
   "display_name": "Python 3.9.17 ('base')",
   "language": "python",
   "name": "python3"
  },
  "language_info": {
   "codemirror_mode": {
    "name": "ipython",
    "version": 3
   },
   "file_extension": ".py",
   "mimetype": "text/x-python",
   "name": "python",
   "nbconvert_exporter": "python",
   "pygments_lexer": "ipython3",
   "version": "3.9.17"
  },
  "orig_nbformat": 4,
  "vscode": {
   "interpreter": {
    "hash": "af8259ad5c1c9c7a69bd6ea085234cf8fd3a6a37a71ca551828b314c4d89b0ad"
   }
  }
 },
 "nbformat": 4,
 "nbformat_minor": 2
}
