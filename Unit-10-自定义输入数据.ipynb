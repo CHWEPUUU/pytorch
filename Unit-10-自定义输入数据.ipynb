{
 "cells": [
  {
   "cell_type": "code",
   "execution_count": 77,
   "metadata": {},
   "outputs": [],
   "source": [
    "import torchvision\n",
    "import torch\n",
    "import torch.optim as optim\n",
    "import numpy as np\n",
    "import matplotlib.pyplot as plt\n",
    "import torch.nn.functional as F # 内置的激活函数\n",
    "import copy # 保存模型权重\n",
    "import glob # 所有路径\n",
    "\n",
    "from torch.utils.data import DataLoader\n",
    "from torch import nn\n",
    "from torchvision import transforms\n",
    "from torch.optim import lr_scheduler # 衰减学习率\n",
    "from torch.utils import data\n",
    "from PIL import Image"
   ]
  },
  {
   "cell_type": "markdown",
   "metadata": {},
   "source": [
    "#### 自定义类输入数据"
   ]
  },
  {
   "cell_type": "code",
   "execution_count": 1,
   "metadata": {},
   "outputs": [
    {
     "ename": "NameError",
     "evalue": "name 'data' is not defined",
     "output_type": "error",
     "traceback": [
      "\u001b[0;31m---------------------------------------------------------------------------\u001b[0m",
      "\u001b[0;31mNameError\u001b[0m                                 Traceback (most recent call last)",
      "\u001b[1;32m/home/cyh/pcw/pytorch/Unit-10-自定义输入数据.ipynb Cell 3\u001b[0m in \u001b[0;36m<cell line: 1>\u001b[0;34m()\u001b[0m\n\u001b[0;32m----> <a href='vscode-notebook-cell://ssh-remote%2B10.13.51.89/home/cyh/pcw/pytorch/Unit-10-%E8%87%AA%E5%AE%9A%E4%B9%89%E8%BE%93%E5%85%A5%E6%95%B0%E6%8D%AE.ipynb#W2sdnNjb2RlLXJlbW90ZQ%3D%3D?line=0'>1</a>\u001b[0m \u001b[39mclass\u001b[39;00m \u001b[39mMyDataset\u001b[39;00m(data\u001b[39m.\u001b[39mDataset): \u001b[39m# 自定义类\u001b[39;00m\n\u001b[1;32m      <a href='vscode-notebook-cell://ssh-remote%2B10.13.51.89/home/cyh/pcw/pytorch/Unit-10-%E8%87%AA%E5%AE%9A%E4%B9%89%E8%BE%93%E5%85%A5%E6%95%B0%E6%8D%AE.ipynb#W2sdnNjb2RlLXJlbW90ZQ%3D%3D?line=1'>2</a>\u001b[0m     \u001b[39mdef\u001b[39;00m \u001b[39m__init__\u001b[39m(\u001b[39mself\u001b[39m, img_paths, img_labels, transform):\n\u001b[1;32m      <a href='vscode-notebook-cell://ssh-remote%2B10.13.51.89/home/cyh/pcw/pytorch/Unit-10-%E8%87%AA%E5%AE%9A%E4%B9%89%E8%BE%93%E5%85%A5%E6%95%B0%E6%8D%AE.ipynb#W2sdnNjb2RlLXJlbW90ZQ%3D%3D?line=2'>3</a>\u001b[0m         \u001b[39mself\u001b[39m\u001b[39m.\u001b[39mimgs \u001b[39m=\u001b[39m img_paths \u001b[39m# 获取图片路径\u001b[39;00m\n",
      "\u001b[0;31mNameError\u001b[0m: name 'data' is not defined"
     ]
    }
   ],
   "source": [
    "class MyDataset(data.Dataset): # 自定义类\n",
    "    def __init__(self, img_paths, img_labels, transform):\n",
    "        self.imgs = img_paths # 获取图片路径\n",
    "        self.img_labels = img_labels # 获取标签\n",
    "        self.transforms = transform\n",
    "        \n",
    "    def __getitem__(self, index):\n",
    "        img = self.imgs[index] # 切片\n",
    "        label = self.img_labels[index] # 切片\n",
    "        \n",
    "        pil_img = Image.open(img) # python处理\n",
    "        pil_img = pil_img.convert(\"RGB\")   # 可选,建议都使用\n",
    "        data = self.transforms(pil_img)\n",
    "        \n",
    "        return data, label\n",
    "    \n",
    "    def __len__(self):\n",
    "        return len(self.imgs) # 总数\n"
   ]
  },
  {
   "cell_type": "markdown",
   "metadata": {},
   "source": [
    "#### 数据预处理"
   ]
  },
  {
   "cell_type": "code",
   "execution_count": null,
   "metadata": {},
   "outputs": [],
   "source": [
    "# 数据路径\n",
    "img_paths = glob.glob('D:\\CODE\\Code_Python\\Pytorch\\第8章\\dataset2\\*.jpg')\n",
    "\n",
    "# 分类\n",
    "species = ['cloudy', 'rain', 'shine', 'sunrise']\n",
    "# 转换键值对\n",
    "species_to_idx = dict((specie, i) for i, specie in enumerate(species))\n",
    "idx_to_species = {v: k for k,v in species_to_idx.items()}\n",
    "\n",
    "img_labels = [] # 标签\n",
    "for img in img_paths: # 获取图片\n",
    "    for i, specie in enumerate(species): # 获取类别及下标\n",
    "        if specie in img: # 判断图片类别\n",
    "            img_labels.append(i) # 追加\n",
    "\n",
    "# 格式转换\n",
    "transform = transforms.Compose([\n",
    "                    transforms.Resize((96, 96)), # 统一大小\n",
    "                    transforms.ToTensor(), # 规范格式\n",
    "])\n",
    "\n",
    "weather_ds = MyDataset(img_paths, img_labels, transform)\n",
    "batch_size = 16\n",
    "wheather_dl = data.DataLoader(weather_ds, batch_size, shuffle=True)\n",
    "\n",
    "imgs_batch, labels_batch = next(iter(wheather_dl))\n",
    "\n",
    "for i, (imgs,lables) in enumerate(zip(imgs_batch[:6],labels_batch[:6])):\n",
    "    imgs = imgs.permute(1, 2, 0)\n",
    "    plt.subplot(2,3,i+1)\n",
    "    plt.imshow(imgs)\n",
    "    plt.title(idx_to_species.get(lables.item()))"
   ]
  },
  {
   "cell_type": "markdown",
   "metadata": {},
   "source": [
    "#### 训练/测试数据处理"
   ]
  },
  {
   "cell_type": "code",
   "execution_count": 98,
   "metadata": {},
   "outputs": [],
   "source": [
    "order = np.random.permutation(len(img_paths)) # 随机打乱\n",
    "\n",
    "img_slice = int(len(img_paths)*0.8) # 切出80%训练\n",
    "\n",
    "# 训练数据\n",
    "train_imgs = img_paths[:img_slice]\n",
    "train_labels = img_labels[:img_slice]\n",
    "# 测试数据\n",
    "test_imgs = img_paths[img_slice:]\n",
    "test_labels = img_labels[img_slice:]\n",
    "\n",
    "batch_size = 16\n",
    "# 训练数据处理 批管理\n",
    "train_ds = MyDataset(train_imgs, train_labels, transform)\n",
    "train_dl = data.DataLoader(train_ds, batch_size, shuffle=True)\n",
    "# 测试数据处理 批管理\n",
    "test_ds = MyDataset(test_imgs, test_labels, transform)\n",
    "test_dl = data.DataLoader(test_ds, batch_size)"
   ]
  },
  {
   "cell_type": "markdown",
   "metadata": {},
   "source": [
    "#### 自定义类实现( width, height, channel)"
   ]
  },
  {
   "cell_type": "code",
   "execution_count": 100,
   "metadata": {},
   "outputs": [],
   "source": [
    "class changeShape(data.Dataset):\n",
    "    def __init__(self, dataset):\n",
    "        self.ds = dataset # 获取dataset\n",
    "    def __getitem__(self, index):\n",
    "        img, label = self.ds[index] # 切片\n",
    "        img = img.permute(1, 2, 0) # 转换\n",
    "        return img, label\n",
    "    def __len__(self):\n",
    "        return len(self.ds) # 总数"
   ]
  }
 ],
 "metadata": {
  "kernelspec": {
   "display_name": "Python 3.8.11 64-bit",
   "language": "python",
   "name": "python3"
  },
  "language_info": {
   "codemirror_mode": {
    "name": "ipython",
    "version": 3
   },
   "file_extension": ".py",
   "mimetype": "text/x-python",
   "name": "python",
   "nbconvert_exporter": "python",
   "pygments_lexer": "ipython3",
   "version": "3.8.11"
  },
  "orig_nbformat": 4,
  "vscode": {
   "interpreter": {
    "hash": "e7370f93d1d0cde622a1f8e1c04877d8463912d04d973331ad4851f04de6915a"
   }
  }
 },
 "nbformat": 4,
 "nbformat_minor": 2
}
