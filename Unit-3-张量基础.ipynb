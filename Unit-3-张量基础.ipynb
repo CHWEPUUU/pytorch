{
 "cells": [
  {
   "cell_type": "code",
   "execution_count": 2,
   "metadata": {},
   "outputs": [],
   "source": [
    "import torch\n",
    "import numpy as np"
   ]
  },
  {
   "cell_type": "code",
   "execution_count": 3,
   "metadata": {},
   "outputs": [
    {
     "data": {
      "text/plain": [
       "tensor([1, 2, 3])"
      ]
     },
     "execution_count": 3,
     "metadata": {},
     "output_type": "execute_result"
    }
   ],
   "source": [
    "# 创建张量 \n",
    "t1 = torch.tensor([[1,2,3]]) # 64 \n",
    "t2 = torch.FloatTensor([4,5,6]) # 32\n",
    "t3 = torch.LongTensor([7,8,9]) # 64\n",
    "\n",
    "'''\n",
    "numpy reshape()\n",
    "torch view()\n",
    "'''\n",
    "np_array = np.arange(12).reshape(3,4) # 32\n",
    "t4 = torch.from_numpy(np_array) # 32 numpy转换为torch\n",
    "t4.numpy() # torch转换为numpy\n",
    "\n",
    "# 转换数据类型\n",
    "t5 = torch.tensor([1,2,3],dtype=torch.float) \n",
    "t5 = t1.type(torch.FloatTensor)\n",
    "t5 = t1.float() # 32 .long() 64\n",
    "\n",
    "t6 = torch.rand(2,3) # 0-1分布\n",
    "t7 = torch.randn(2,3) # 正太分布\n",
    "t8 = torch.zeros_like(t6) # 保留形状和类型\n",
    "\n",
    "t1.device # 查看设备\n",
    "t9 = t1.to('cuda') # 移动到cuda\n",
    "t9.device\n",
    " \n",
    "\n",
    "t1.matmul(t1.T) # t1@(t1.T) 矩阵乘法  \n",
    "\n",
    "t1.sum().item() # 转化为python\n",
    "\n",
    "torch.squeeze(t1) # 去掉一个维度"
   ]
  },
  {
   "cell_type": "code",
   "execution_count": 52,
   "metadata": {},
   "outputs": [
    {
     "data": {
      "text/plain": [
       "tensor([0.3333, 0.3333, 0.3333])"
      ]
     },
     "execution_count": 52,
     "metadata": {},
     "output_type": "execute_result"
    }
   ],
   "source": [
    "t2.requires_grad = True # 跟踪运算\n",
    "\n",
    "x = t2 + 5 \n",
    "x.grad_fn # grad_fn 查看运算\n",
    "\n",
    "y = x.mean() # 标量\n",
    "y.backward() # 自动微分运算\n",
    "\n",
    "t2.grad # grad 打印出结果\n",
    "\n",
    "# 截断跟踪\n",
    "# with torch.no_grad():\n",
    "#     y = x.mean()\n",
    "#     print(y.requires_grad)\n",
    "\n",
    "# t2.requires_grad_ = False\n",
    "\n",
    "# z = y.detach()"
   ]
  }
 ],
 "metadata": {
  "kernelspec": {
   "display_name": "Python 3.9.17 ('base')",
   "language": "python",
   "name": "python3"
  },
  "language_info": {
   "codemirror_mode": {
    "name": "ipython",
    "version": 3
   },
   "file_extension": ".py",
   "mimetype": "text/x-python",
   "name": "python",
   "nbconvert_exporter": "python",
   "pygments_lexer": "ipython3",
   "version": "3.9.17"
  },
  "orig_nbformat": 4,
  "vscode": {
   "interpreter": {
    "hash": "af8259ad5c1c9c7a69bd6ea085234cf8fd3a6a37a71ca551828b314c4d89b0ad"
   }
  }
 },
 "nbformat": 4,
 "nbformat_minor": 2
}
